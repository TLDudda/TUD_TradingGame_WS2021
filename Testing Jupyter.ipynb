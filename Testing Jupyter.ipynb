{
 "cells": [
  {
   "cell_type": "markdown",
   "metadata": {},
   "source": [
    "### Some basic pre-steps"
   ]
  },
  {
   "cell_type": "code",
   "execution_count": 39,
   "metadata": {},
   "outputs": [],
   "source": [
    "# Clear the workspace\n",
    "rm(list = ls())\n",
    "\n",
    "# load required packages\n",
    "suppressMessages(library(xts))\n",
    "suppressMessages(library(quantmod))\n",
    "suppressMessages(library(PerformanceAnalytics))"
   ]
  },
  {
   "cell_type": "code",
   "execution_count": 27,
   "metadata": {},
   "outputs": [
    {
     "name": "stdout",
     "output_type": "stream",
     "text": [
      "Hello World."
     ]
    }
   ],
   "source": [
    "invisible(cat(\"Hello World.\"))"
   ]
  },
  {
   "cell_type": "code",
   "execution_count": 41,
   "metadata": {},
   "outputs": [],
   "source": [
    "x <- 1:10\n",
    "invisible(x)"
   ]
  },
  {
   "cell_type": "code",
   "execution_count": 42,
   "metadata": {},
   "outputs": [
    {
     "data": {
      "image/png": "[encoded data removed]",
      "text/plain": [
       "plot without title"
      ]
     },
     "metadata": {
      "image/png": {
       "height": 420,
       "width": 420
      }
     },
     "output_type": "display_data"
    }
   ],
   "source": [
    "plot(x)"
   ]
  },
  {
   "cell_type": "code",
   "execution_count": 53,
   "metadata": {
    "scrolled": true
   },
   "outputs": [
    {
     "data": {
      "text/html": [
       "'DBK.DE'"
      ],
      "text/latex": [
       "'DBK.DE'"
      ],
      "text/markdown": [
       "'DBK.DE'"
      ],
      "text/plain": [
       "[1] \"DBK.DE\""
      ]
     },
     "metadata": {},
     "output_type": "display_data"
    }
   ],
   "source": [
    "# set start and end date  \n",
    "start.date <- \"2020-01-01\"\n",
    "today <- Sys.Date()\n",
    "symbols <- \"DBK.DE\"\n",
    "# load historical price data from yahoo finance\n",
    "suppressWarnings(getSymbols(symbols, from = start.date, to = today))\n",
    "\n"
   ]
  },
  {
   "cell_type": "code",
   "execution_count": 47,
   "metadata": {},
   "outputs": [
    {
     "data": {
      "text/html": [
       "<time datetime=\"2020-08-04\">2020-08-04</time>"
      ],
      "text/latex": [
       "2020-08-04"
      ],
      "text/markdown": [
       "2020-08-04"
      ],
      "text/plain": [
       "[1] \"2020-08-04\""
      ]
     },
     "metadata": {},
     "output_type": "display_data"
    }
   ],
   "source": [
    "Sys.Date()"
   ]
  },
  {
   "cell_type": "markdown",
   "metadata": {},
   "source": [
    "Das ist eine Testgleichung\n",
    "\\begin{equation}\n",
    "a = b^2\n",
    "\\end{equation}"
   ]
  },
  {
   "cell_type": "code",
   "execution_count": 54,
   "metadata": {},
   "outputs": [],
   "source": [
    "for(i in symbols){\n",
    "  symbol <- get(i)\n",
    "  cl <- symbol[,4] # this is close (not adjusted close)\n",
    "  assign(i, cl)\n",
    "}"
   ]
  },
  {
   "cell_type": "code",
   "execution_count": 55,
   "metadata": {
    "scrolled": true
   },
   "outputs": [
    {
     "data": {
      "image/png": "[encoded data removed]",
      "text/plain": [
       "plot without title"
      ]
     },
     "metadata": {
      "image/png": {
       "height": 420,
       "width": 420
      }
     },
     "output_type": "display_data"
    }
   ],
   "source": [
    "plot(DBK.DE)"
   ]
  },
  {
   "cell_type": "code",
   "execution_count": 63,
   "metadata": {},
   "outputs": [],
   "source": [
    "urlfile <- \"https://raw.githubusercontent.com/TomDfinance/TUD_TradingGame_WS2021/master/data.csv\"\n",
    "data <- read.csv(urlfile, sep = \";\")"
   ]
  },
  {
   "cell_type": "code",
   "execution_count": 62,
   "metadata": {},
   "outputs": [
    {
     "data": {
      "text/html": [
       "<table>\n",
       "<caption>A data.frame: 6 × 5</caption>\n",
       "<thead>\n",
       "\t<tr><th></th><th scope=col>Symbol</th><th scope=col>A</th><th scope=col>B</th><th scope=col>C</th><th scope=col>D</th></tr>\n",
       "\t<tr><th></th><th scope=col>&lt;chr&gt;</th><th scope=col>&lt;int&gt;</th><th scope=col>&lt;int&gt;</th><th scope=col>&lt;int&gt;</th><th scope=col>&lt;int&gt;</th></tr>\n",
       "</thead>\n",
       "<tbody>\n",
       "\t<tr><th scope=row>1</th><td>1COV.DE</td><td>     0</td><td>     0</td><td>100000</td><td>0</td></tr>\n",
       "\t<tr><th scope=row>2</th><td>ADS.DE </td><td>100000</td><td>100000</td><td>100000</td><td>0</td></tr>\n",
       "\t<tr><th scope=row>3</th><td>ALV.DE </td><td>     0</td><td>     0</td><td>100000</td><td>0</td></tr>\n",
       "\t<tr><th scope=row>4</th><td>BAS.DE </td><td>     0</td><td>     0</td><td>100000</td><td>0</td></tr>\n",
       "\t<tr><th scope=row>5</th><td>BAYN.DE</td><td>     0</td><td>     0</td><td>100000</td><td>0</td></tr>\n",
       "\t<tr><th scope=row>6</th><td>BEI.DE </td><td>     0</td><td>300000</td><td>100000</td><td>0</td></tr>\n",
       "</tbody>\n",
       "</table>\n"
      ],
      "text/latex": [
       "A data.frame: 6 × 5\n",
       "\\begin{tabular}{r|lllll}\n",
       "  & Symbol & A & B & C & D\\\\\n",
       "  & <chr> & <int> & <int> & <int> & <int>\\\\\n",
       "\\hline\n",
       "\t1 & 1COV.DE &      0 &      0 & 100000 & 0\\\\\n",
       "\t2 & ADS.DE  & 100000 & 100000 & 100000 & 0\\\\\n",
       "\t3 & ALV.DE  &      0 &      0 & 100000 & 0\\\\\n",
       "\t4 & BAS.DE  &      0 &      0 & 100000 & 0\\\\\n",
       "\t5 & BAYN.DE &      0 &      0 & 100000 & 0\\\\\n",
       "\t6 & BEI.DE  &      0 & 300000 & 100000 & 0\\\\\n",
       "\\end{tabular}\n"
      ],
      "text/markdown": [
       "\n",
       "A data.frame: 6 × 5\n",
       "\n",
       "| <!--/--> | Symbol &lt;chr&gt; | A &lt;int&gt; | B &lt;int&gt; | C &lt;int&gt; | D &lt;int&gt; |\n",
       "|---|---|---|---|---|---|\n",
       "| 1 | 1COV.DE |      0 |      0 | 100000 | 0 |\n",
       "| 2 | ADS.DE  | 100000 | 100000 | 100000 | 0 |\n",
       "| 3 | ALV.DE  |      0 |      0 | 100000 | 0 |\n",
       "| 4 | BAS.DE  |      0 |      0 | 100000 | 0 |\n",
       "| 5 | BAYN.DE |      0 |      0 | 100000 | 0 |\n",
       "| 6 | BEI.DE  |      0 | 300000 | 100000 | 0 |\n",
       "\n"
      ],
      "text/plain": [
       "  Symbol  A      B      C      D\n",
       "1 1COV.DE      0      0 100000 0\n",
       "2 ADS.DE  100000 100000 100000 0\n",
       "3 ALV.DE       0      0 100000 0\n",
       "4 BAS.DE       0      0 100000 0\n",
       "5 BAYN.DE      0      0 100000 0\n",
       "6 BEI.DE       0 300000 100000 0"
      ]
     },
     "metadata": {},
     "output_type": "display_data"
    }
   ],
   "source": [
    "head(data)"
   ]
  }
 ],
 "metadata": {
  "kernelspec": {
   "display_name": "R",
   "language": "R",
   "name": "ir"
  },
  "language_info": {
   "codemirror_mode": "r",
   "file_extension": ".r",
   "mimetype": "text/x-r-source",
   "name": "R",
   "pygments_lexer": "r",
   "version": "4.0.2"
  }
 },
 "nbformat": 4,
 "nbformat_minor": 4
}
